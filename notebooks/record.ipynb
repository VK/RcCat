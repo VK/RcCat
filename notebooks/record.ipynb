{
 "nbformat": 4,
 "nbformat_minor": 2,
 "metadata": {
  "language_info": {
   "name": "python",
   "codemirror_mode": {
    "name": "ipython",
    "version": 3
   },
   "version": "3.7.5-final"
  },
  "orig_nbformat": 2,
  "file_extension": ".py",
  "mimetype": "text/x-python",
  "name": "python",
  "npconvert_exporter": "python",
  "pygments_lexer": "ipython3",
  "version": 3,
  "kernelspec": {
   "name": "python37564bit48211d05eb42479fa2e5a1cc5d9ffa43",
   "display_name": "Python 3.7.5 64-bit"
  }
 },
 "cells": [
  {
   "cell_type": "code",
   "execution_count": 1,
   "metadata": {},
   "outputs": [
    {
     "output_type": "error",
     "ename": "ModuleNotFoundError",
     "evalue": "No module named 'pandas'",
     "traceback": [
      "\u001b[0;31m---------------------------------------------------------------------------\u001b[0m",
      "\u001b[0;31mModuleNotFoundError\u001b[0m                       Traceback (most recent call last)",
      "\u001b[0;32m<ipython-input-1-77746d5088ab>\u001b[0m in \u001b[0;36m<module>\u001b[0;34m\u001b[0m\n\u001b[1;32m      1\u001b[0m \u001b[0;32mimport\u001b[0m \u001b[0mthreading\u001b[0m\u001b[0;34m\u001b[0m\u001b[0;34m\u001b[0m\u001b[0m\n\u001b[1;32m      2\u001b[0m \u001b[0;32mimport\u001b[0m \u001b[0msubprocess\u001b[0m\u001b[0;34m\u001b[0m\u001b[0;34m\u001b[0m\u001b[0m\n\u001b[0;32m----> 3\u001b[0;31m \u001b[0;32mimport\u001b[0m \u001b[0mpandas\u001b[0m \u001b[0;32mas\u001b[0m \u001b[0mpd\u001b[0m\u001b[0;34m\u001b[0m\u001b[0;34m\u001b[0m\u001b[0m\n\u001b[0m\u001b[1;32m      4\u001b[0m \u001b[0;32mimport\u001b[0m \u001b[0mos\u001b[0m\u001b[0;34m\u001b[0m\u001b[0;34m\u001b[0m\u001b[0m\n",
      "\u001b[0;31mModuleNotFoundError\u001b[0m: No module named 'pandas'"
     ]
    }
   ],
   "source": [
    "import threading\n",
    "import subprocess\n",
    "import pandas as pd\n",
    "import os"
   ]
  },
  {
   "cell_type": "code",
   "execution_count": 2,
   "metadata": {},
   "outputs": [],
   "source": [
    "import serial"
   ]
  },
  {
   "cell_type": "code",
   "execution_count": 122,
   "metadata": {},
   "outputs": [
    {
     "name": "stdout",
     "output_type": "stream",
     "text": "b'-6\\t-6\\t0\\t0\\t99\\t99\\t12\\t0\\t40\\t-6\\t-6\\t1\\r\\n'\nb'-6\\t-6\\t0\\t0\\t99\\t99\\t12\\t0\\t40\\t-6\\t-6\\t1\\r\\n'\nb'-6\\t-6\\t0\\t0\\t99\\t99\\t12\\t0\\t40\\t-6\\t-6\\t1\\r\\n'\nb'-6\\t-6\\t0\\t0\\t99\\t99\\t12\\t0\\t40\\t-6\\t-6\\t1\\r\\n'\nb'-11\\t-11\\t0\\t0\\t100\\t100\\t12\\t0\\t40\\t-11\\t-11\\t1\\r\\n'\nb'-11\\t-11\\t0\\t0\\t100\\t100\\t12\\t0\\t40\\t-11\\t-11\\t1\\r\\n'\nb'-11\\t-11\\t0\\t0\\t100\\t100\\t12\\t0\\t40\\t-11\\t-11\\t1\\r\\n'\nb'-7\\t-7\\t0\\t0\\t99\\t99\\t12\\t0\\t40\\t-7\\t-7\\t1\\r\\n'\nb'-7\\t-7\\t0\\t0\\t99\\t99\\t12\\t0\\t40\\t-7\\t-7\\t1\\r\\n'\nb'-7\\t-7\\t0\\t0\\t99\\t99\\t12\\t0\\t40\\t-6\\t-6\\t1\\r\\n'\nb'-6\\t-6\\t0\\t0\\t99\\t99\\t12\\t0\\t40\\t-6\\t-6\\t1\\r\\n'\nb'-6\\t-6\\t0\\t0\\t99\\t99\\t12\\t0\\t40\\t-6\\t-6\\t1\\r\\n'\nb'-6\\t-6\\t0\\t0\\t99\\t99\\t12\\t0\\t40\\t-6\\t-6\\t1\\r\\n'\nb'-6\\t-6\\t0\\t0\\t99\\t99\\t12\\t0\\t40\\t-6\\t-6\\t1\\r\\n'\nb'-6\\t-6\\t0\\t0\\t99\\t99\\t12\\t0\\t40\\t-6\\t-6\\t1\\r\\n'\nb'-6\\t-6\\t0\\t0\\t99\\t99\\t12\\t0\\t40\\t-6\\t-6\\t1\\r\\n'\nb'-6\\t-6\\t0\\t0\\t99\\t99\\t12\\t0\\t40\\t-6\\t-6\\t1\\r\\n'\nb'-6\\t-6\\t0\\t0\\t99\\t99\\t12\\t-1\\t40\\t-6\\t-6\\t1\\r\\n'\nb'-3\\t-3\\t0\\t0\\t99\\t99\\t12\\t-1\\t40\\t-3\\t-3\\t1\\r\\n'\nb'-3\\t-3\\t0\\t0\\t99\\t99\\t12\\t-1\\t40\\t-3\\t-3\\t1\\r\\n'\nb'-3\\t-3\\t0\\t0\\t99\\t99\\t12\\t-1\\t40\\t-3\\t-3\\t1\\r\\n'\nb'-6\\t-6\\t0\\t0\\t100\\t100\\t12\\t-1\\t40\\t-6\\t-6\\t1\\r\\n'\nb'-6\\t-6\\t0\\t0\\t100\\t100\\t12\\t-1\\t40\\t-6\\t-6\\t1\\r\\n'\nb'-6\\t-6\\t0\\t0\\t99\\t99\\t12\\t-1\\t40\\t-6\\t-6\\t1\\r\\n'\nb'-6\\t-6\\t0\\t0\\t99\\t99\\t12\\t-1\\t40\\t-6\\t-6\\t1\\r\\n'\nb'-6\\t-6\\t0\\t0\\t99\\t99\\t12\\t-1\\t39\\t-6\\t-6\\t1\\r\\n'\n"
    }
   ],
   "source": [
    "def readSerial():\n",
    "    for l in ser.readline():\n",
    "        print(l)"
   ]
  },
  {
   "cell_type": "code",
   "execution_count": 107,
   "metadata": {},
   "outputs": [],
   "source": [
    "ser = serial.Serial(\"/dev/ttyUSB1\", 115200)\n",
    "\n",
    "thread=threading.Thread(target=readSerial)\n",
    "thread.daemon = True"
   ]
  },
  {
   "cell_type": "code",
   "execution_count": 117,
   "metadata": {},
   "outputs": [
    {
     "name": "stdout",
     "output_type": "stream",
     "text": "b'-7\\t-7\\t0\\t0\\t100\\t100\\t15\\t-3\\t42\\t-7\\t-7\\t1\\r\\n'\nb'-7\\t-7\\t0\\t0\\t99\\t99\\t15\\t-3\\t42\\t-7\\t-7\\t1\\r\\n'\nb'-7\\t-7\\t0\\t0\\t99\\t99\\t15\\t-3\\t42\\t-7\\t-7\\t1\\r\\n'\nb'-7\\t-7\\t0\\t0\\t99\\t99\\t15\\t-3\\t42\\t-7\\t-7\\t1\\r\\n'\nb'-7\\t-7\\t0\\t0\\t99\\t99\\t15\\t-2\\t42\\t-7\\t-7\\t1\\r\\n'\nb'-7\\t-7\\t0\\t0\\t99\\t99\\t15\\t-2\\t39\\t-7\\t-7\\t1\\r\\n'\n"
    },
    {
     "ename": "RuntimeError",
     "evalue": "threads can only be started once",
     "output_type": "error",
     "traceback": [
      "\u001b[0;31m---------------------------------------------------------------------------\u001b[0m",
      "\u001b[0;31mRuntimeError\u001b[0m                              Traceback (most recent call last)",
      "\u001b[0;32m<ipython-input-117-eda4b9431080>\u001b[0m in \u001b[0;36m<module>\u001b[0;34m\u001b[0m\n\u001b[0;32m----> 1\u001b[0;31m \u001b[0mthread\u001b[0m\u001b[0;34m.\u001b[0m\u001b[0mstart\u001b[0m\u001b[0;34m(\u001b[0m\u001b[0;34m)\u001b[0m\u001b[0;34m\u001b[0m\u001b[0;34m\u001b[0m\u001b[0m\n\u001b[0m",
      "\u001b[0;32m/usr/lib/python3.7/threading.py\u001b[0m in \u001b[0;36mstart\u001b[0;34m(self)\u001b[0m\n\u001b[1;32m    846\u001b[0m \u001b[0;34m\u001b[0m\u001b[0m\n\u001b[1;32m    847\u001b[0m         \u001b[0;32mif\u001b[0m \u001b[0mself\u001b[0m\u001b[0;34m.\u001b[0m\u001b[0m_started\u001b[0m\u001b[0;34m.\u001b[0m\u001b[0mis_set\u001b[0m\u001b[0;34m(\u001b[0m\u001b[0;34m)\u001b[0m\u001b[0;34m:\u001b[0m\u001b[0;34m\u001b[0m\u001b[0;34m\u001b[0m\u001b[0m\n\u001b[0;32m--> 848\u001b[0;31m             \u001b[0;32mraise\u001b[0m \u001b[0mRuntimeError\u001b[0m\u001b[0;34m(\u001b[0m\u001b[0;34m\"threads can only be started once\"\u001b[0m\u001b[0;34m)\u001b[0m\u001b[0;34m\u001b[0m\u001b[0;34m\u001b[0m\u001b[0m\n\u001b[0m\u001b[1;32m    849\u001b[0m         \u001b[0;32mwith\u001b[0m \u001b[0m_active_limbo_lock\u001b[0m\u001b[0;34m:\u001b[0m\u001b[0;34m\u001b[0m\u001b[0;34m\u001b[0m\u001b[0m\n\u001b[1;32m    850\u001b[0m             \u001b[0m_limbo\u001b[0m\u001b[0;34m[\u001b[0m\u001b[0mself\u001b[0m\u001b[0;34m]\u001b[0m \u001b[0;34m=\u001b[0m \u001b[0mself\u001b[0m\u001b[0;34m\u001b[0m\u001b[0;34m\u001b[0m\u001b[0m\n",
      "\u001b[0;31mRuntimeError\u001b[0m: threads can only be started once"
     ]
    }
   ],
   "source": [
    "thread.start()"
   ]
  },
  {
   "cell_type": "code",
   "execution_count": 68,
   "metadata": {},
   "outputs": [],
   "source": [
    "basedir = os.path.join(os.getcwd(), \"../\")"
   ]
  },
  {
   "cell_type": "code",
   "execution_count": 75,
   "metadata": {},
   "outputs": [],
   "source": [
    "proc = subprocess.Popen( [\"platformio\", \"device\", \"monitor\"], \n",
    "        stdin=subprocess.PIPE,\n",
    "        stdout=subprocess.PIPE,\n",
    "        stderr=subprocess.STDOUT,\n",
    "        cwd = basedir\n",
    " )"
   ]
  },
  {
   "cell_type": "code",
   "execution_count": 74,
   "metadata": {},
   "outputs": [
    {
     "data": {
      "text/plain": "1"
     },
     "execution_count": 74,
     "metadata": {},
     "output_type": "execute_result"
    }
   ],
   "source": [
    "proc.poll()"
   ]
  },
  {
   "cell_type": "code",
   "execution_count": 76,
   "metadata": {},
   "outputs": [
    {
     "name": "stdout",
     "output_type": "stream",
     "text": "b'Looking for advanced Serial Monitor with UI? Check http://bit.ly/pio-advanced-monitor\\n'\nb\"Error: (25, 'Inappropriate ioctl for device')\\n\"\n"
    }
   ],
   "source": [
    "for l in proc.stdout:\n",
    "    print(l)"
   ]
  },
  {
   "cell_type": "code",
   "execution_count": 30,
   "metadata": {},
   "outputs": [],
   "source": [
    "while proc.poll() is None:\n",
    "    for line in proc.stdout:\n",
    "        print(line)"
   ]
  },
  {
   "cell_type": "code",
   "execution_count": 35,
   "metadata": {},
   "outputs": [
    {
     "ename": "TypeError",
     "evalue": "'NoneType' object is not iterable",
     "output_type": "error",
     "traceback": [
      "\u001b[0;31m---------------------------------------------------------------------------\u001b[0m",
      "\u001b[0;31mTypeError\u001b[0m                                 Traceback (most recent call last)",
      "\u001b[0;32m<ipython-input-35-bff72b707250>\u001b[0m in \u001b[0;36m<module>\u001b[0;34m\u001b[0m\n\u001b[0;32m----> 1\u001b[0;31m \u001b[0;32mfor\u001b[0m \u001b[0ml\u001b[0m \u001b[0;32min\u001b[0m \u001b[0mproc\u001b[0m\u001b[0;34m.\u001b[0m\u001b[0mstdout\u001b[0m\u001b[0;34m:\u001b[0m\u001b[0;34m\u001b[0m\u001b[0;34m\u001b[0m\u001b[0m\n\u001b[0m\u001b[1;32m      2\u001b[0m     \u001b[0mprint\u001b[0m\u001b[0;34m(\u001b[0m\u001b[0ml\u001b[0m\u001b[0;34m)\u001b[0m\u001b[0;34m\u001b[0m\u001b[0;34m\u001b[0m\u001b[0m\n",
      "\u001b[0;31mTypeError\u001b[0m: 'NoneType' object is not iterable"
     ]
    }
   ],
   "source": [
    "for l in proc.stdout:\n",
    "    print(l)"
   ]
  },
  {
   "cell_type": "code",
   "execution_count": null,
   "metadata": {},
   "outputs": [],
   "source": []
  }
 ]
}