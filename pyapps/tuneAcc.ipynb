{
 "nbformat": 4,
 "nbformat_minor": 2,
 "metadata": {
  "language_info": {
   "name": "python",
   "codemirror_mode": {
    "name": "ipython",
    "version": 3
   }
  },
  "orig_nbformat": 2,
  "file_extension": ".py",
  "mimetype": "text/x-python",
  "name": "python",
  "npconvert_exporter": "python",
  "pygments_lexer": "ipython3",
  "version": 3,
  "kernelspec": {
   "name": "python38264bitpyappsvirtualenv50ebd78b3d5e4da4ba5fe356748a07ec",
   "display_name": "Python 3.8.2 64-bit ('pyapps': virtualenv)"
  }
 },
 "cells": [
  {
   "cell_type": "code",
   "execution_count": null,
   "metadata": {},
   "outputs": [],
   "source": [
    "import rccat\n",
    "\n",
    "import numpy as np\n",
    "from plotly.subplots import make_subplots\n",
    "import plotly.graph_objects as go\n",
    "import hyperopt\n",
    "from hyperopt import hp"
   ]
  },
  {
   "cell_type": "code",
   "execution_count": null,
   "metadata": {},
   "outputs": [],
   "source": [
    "catIO = rccat.SerialIO()\n",
    "#catIO.connect(\"/dev/ttyUSB0\")\n",
    "catIO.connect(\"http://rccat.local\")"
   ]
  },
  {
   "cell_type": "code",
   "execution_count": null,
   "metadata": {},
   "outputs": [],
   "source": [
    "catIO.clearBuffer()"
   ]
  },
  {
   "cell_type": "code",
   "execution_count": null,
   "metadata": {},
   "outputs": [],
   "source": [
    "len(catIO.readData)"
   ]
  },
  {
   "cell_type": "code",
   "execution_count": null,
   "metadata": {},
   "outputs": [],
   "source": [
    "catIO.disconnect()"
   ]
  },
  {
   "cell_type": "code",
   "execution_count": null,
   "metadata": {},
   "outputs": [],
   "source": [
    "rcCatSerialIO.setParam(1, 150)\n",
    "rcCatSerialIO.setParam(2, 150)\n",
    "rcCatSerialIO.setParam(3, 150)\n",
    "rcCatSerialIO.setParam(4, 150)\n"
   ]
  },
  {
   "cell_type": "code",
   "execution_count": null,
   "metadata": {},
   "outputs": [],
   "source": [
    "import plotly.express as px\n",
    "\n",
    "df = catIO.readData"
   ]
  },
  {
   "cell_type": "code",
   "execution_count": null,
   "metadata": {},
   "outputs": [],
   "source": [
    "df.head()"
   ]
  },
  {
   "cell_type": "code",
   "execution_count": null,
   "metadata": {},
   "outputs": [],
   "source": [
    "fig = make_subplots(rows=1,cols=1)\n",
    "fig.add_trace(go.Scatter(y=df.ax, name=\"ax\"))\n",
    "fig.add_trace(go.Scatter(y=df.ay, name=\"ay\"))\n",
    "fig.add_trace(go.Scatter(y=df.az, name=\"az\"))\n",
    "fig.add_trace(go.Scatter(y=df.pitch, name=\"pitch\"))\n",
    "#fig.add_trace(px.scatter(df,y=\"ay\"),row=1, col=1)"
   ]
  },
  {
   "cell_type": "code",
   "execution_count": null,
   "metadata": {},
   "outputs": [],
   "source": [
    "catIO.disconnect()"
   ]
  },
  {
   "cell_type": "code",
   "execution_count": null,
   "metadata": {},
   "outputs": [],
   "source": [
    "np.max(df.speed[-1000:])"
   ]
  },
  {
   "cell_type": "code",
   "execution_count": null,
   "metadata": {},
   "outputs": [],
   "source": [
    "paramSpace = [\n",
    "    {\"hp\": hp.uniformint(\"normal_pitch_min\", 0, 255), \"id\": 1},\n",
    "    {\"hp\": hp.uniformint(\"normal_pitch_ratio\", 0, 255), \"id\": 2},\n",
    "    {\"hp\": hp.uniformint(\"normal_acc_offset\", 0, 255), \"id\": 3},\n",
    "    {\"hp\": hp.uniformint(\"normal_acc_min\", 0, 255), \"id\": 4},\n",
    "]\n",
    "\n",
    "def setParams(args):\n",
    "    \"\"\" Update RcCat Controller parameters for optimization\n",
    "    \"\"\"\n",
    "    for idx, val in enumerate(args):\n",
    "        #print(\"{} {}\".format(paramsSpace[idx][\"id\"], val))\n",
    "        #catIO.setParam(paramsSpace[idx][\"id\"], val)\n",
    "        pass"
   ]
  },
  {
   "cell_type": "code",
   "execution_count": null,
   "metadata": {},
   "outputs": [],
   "source": [
    "def objective(args):\n",
    "    a, b, c, d = args\n",
    "    #setParams(args)\n",
    "\n",
    "    res = (a**2 + (b-4)**2 + (c-45)**2 + (d-100)**2) + np.random.rand()*20\n",
    "\n",
    "    print(\"{} => {}\".format(args, res))\n",
    "    return res\n",
    "\n",
    "# define a search space\n",
    "from hyperopt import hp\n",
    "space = [ el[\"hp\"] for el in paramSpace ]\n",
    "\n",
    "# minimize the objective over the space\n",
    "from hyperopt import fmin, tpe\n",
    "best = fmin(objective, space, algo=hyperopt.atpe.suggest, max_evals=100, verbose=False)\n",
    "\n",
    "print(best)\n",
    "# -> {'a': 1, 'c2': 0.01420615366247227}\n",
    "print(hyperopt.space_eval(space, best))\n",
    "# -> ('case 2', 0.01420615366247227}"
   ]
  },
  {
   "cell_type": "code",
   "execution_count": null,
   "metadata": {},
   "outputs": [],
   "source": []
  }
 ]
}